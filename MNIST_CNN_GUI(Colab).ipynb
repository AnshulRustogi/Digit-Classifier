{
 "cells": [
  {
   "cell_type": "markdown",
   "id": "d3a76289-3e95-466f-a0bd-e1298cd2da44",
   "metadata": {
    "id": "d3a76289-3e95-466f-a0bd-e1298cd2da44"
   },
   "source": [
    "# CNN Model with GUI for Hand Written Digit Recognition\n",
    "### Using Tensorflow, Keras, Gradio and MNIST Dataset for training"
   ]
  },
  {
   "cell_type": "markdown",
   "id": "1187d13e-7841-4c67-a33c-d2d7982d008e",
   "metadata": {
    "id": "1187d13e-7841-4c67-a33c-d2d7982d008e"
   },
   "source": [
    "## Section 1: Building our Model"
   ]
  },
  {
   "cell_type": "markdown",
   "id": "2ebe6be6-2a5e-4908-8ab4-cc14b23717fa",
   "metadata": {
    "id": "2ebe6be6-2a5e-4908-8ab4-cc14b23717fa"
   },
   "source": [
    "### Part 1: Importing required libraries\n"
   ]
  },
  {
   "cell_type": "code",
   "execution_count": 1,
   "id": "61dde19b-f8e1-4990-bb52-301dec076905",
   "metadata": {
    "id": "61dde19b-f8e1-4990-bb52-301dec076905"
   },
   "outputs": [],
   "source": [
    "import tensorflow as tf\n",
    "from tensorflow import keras"
   ]
  },
  {
   "cell_type": "markdown",
   "id": "d83fb3f9-9587-4737-be07-4c32ed8ceb8b",
   "metadata": {
    "id": "d83fb3f9-9587-4737-be07-4c32ed8ceb8b"
   },
   "source": [
    "### Part 2: Importing the Data and understanding the data"
   ]
  },
  {
   "cell_type": "code",
   "execution_count": 2,
   "id": "ec1f6eae-47e2-47bb-a521-bbd480a3b12f",
   "metadata": {
    "colab": {
     "base_uri": "https://localhost:8080/"
    },
    "id": "ec1f6eae-47e2-47bb-a521-bbd480a3b12f",
    "outputId": "02bedbcd-ce71-4245-8311-a9ce0c6e739f"
   },
   "outputs": [
    {
     "name": "stdout",
     "output_type": "stream",
     "text": [
      "Train: X=(60000, 28, 28), y=(60000,)\n",
      "Test: X=(10000, 28, 28), y=(10000,)\n"
     ]
    }
   ],
   "source": [
    "from matplotlib import pyplot\n",
    "\n",
    "(trainX, trainy) , (testX, testy) = keras.datasets.mnist.load_data()\n",
    "print('Train: X=%s, y=%s' %(trainX.shape, trainy.shape))\n",
    "print('Test: X=%s, y=%s' %(testX.shape, testy.shape))"
   ]
  },
  {
   "cell_type": "markdown",
   "id": "53f22d7f-cdb3-43e5-9de8-5b23376b8d35",
   "metadata": {
    "id": "53f22d7f-cdb3-43e5-9de8-5b23376b8d35"
   },
   "source": [
    "### Part 3: Visualising the data"
   ]
  },
  {
   "cell_type": "code",
   "execution_count": 3,
   "id": "d27fd361-07f9-4b8f-82d6-26d3ebf71fe5",
   "metadata": {
    "colab": {
     "base_uri": "https://localhost:8080/",
     "height": 268
    },
    "id": "d27fd361-07f9-4b8f-82d6-26d3ebf71fe5",
    "outputId": "903a4710-3875-4edb-81c0-00b39dba407e"
   },
   "outputs": [
    {
     "data": {
      "image/png": "[encoded data removed]",
      "text/plain": [
       "<Figure size 432x288 with 9 Axes>"
      ]
     },
     "metadata": {
      "needs_background": "light",
      "tags": []
     },
     "output_type": "display_data"
    }
   ],
   "source": [
    "for i in range(9):\n",
    "    pyplot.subplot(330 + 1 + i)\n",
    "    pyplot.imshow(trainX[i], cmap=pyplot.get_cmap('gray'))\n",
    "pyplot.show()"
   ]
  },
  {
   "cell_type": "markdown",
   "id": "d124d8d2-a31e-4381-8570-f2e8d8dde786",
   "metadata": {
    "id": "d124d8d2-a31e-4381-8570-f2e8d8dde786"
   },
   "source": [
    "### Part 4: Preprocessing the data"
   ]
  },
  {
   "cell_type": "code",
   "execution_count": 4,
   "id": "4e6a0163-fc8e-48d2-a920-9f40561d991d",
   "metadata": {
    "id": "4e6a0163-fc8e-48d2-a920-9f40561d991d"
   },
   "outputs": [],
   "source": [
    "trainX = trainX.reshape((trainX.shape[0], 28, 28, 1))\n",
    "testX = testX.reshape((testX.shape[0], 28, 28, 1))"
   ]
  },
  {
   "cell_type": "markdown",
   "id": "04a270ea-f82c-4848-a956-ff5e22043fa6",
   "metadata": {
    "id": "04a270ea-f82c-4848-a956-ff5e22043fa6"
   },
   "source": [
    "#### Applying One-Hot-Encoding to image labels"
   ]
  },
  {
   "cell_type": "code",
   "execution_count": 5,
   "id": "b8dfa847-1938-4d8c-9f5f-23771bba5dbf",
   "metadata": {
    "id": "b8dfa847-1938-4d8c-9f5f-23771bba5dbf"
   },
   "outputs": [],
   "source": [
    "trainy = keras.utils.to_categorical(trainy)\n",
    "testy = keras.utils.to_categorical(testy)"
   ]
  },
  {
   "cell_type": "markdown",
   "id": "a73fc1bf-473a-449b-bd28-207ddd6076f7",
   "metadata": {
    "id": "a73fc1bf-473a-449b-bd28-207ddd6076f7"
   },
   "source": [
    "#### Normalising image data"
   ]
  },
  {
   "cell_type": "code",
   "execution_count": 6,
   "id": "f5215209-729f-4dc4-b1c7-d4e5e0fa3a70",
   "metadata": {
    "id": "f5215209-729f-4dc4-b1c7-d4e5e0fa3a70"
   },
   "outputs": [],
   "source": [
    "trainX = trainX.astype('float32')/255.0\n",
    "testX = testX.astype('float32')/255.0"
   ]
  },
  {
   "cell_type": "markdown",
   "id": "f61306b9-cab7-46a0-b435-a888a63c3775",
   "metadata": {
    "id": "f61306b9-cab7-46a0-b435-a888a63c3775"
   },
   "source": [
    "### Part 5: Defining the CNN Model"
   ]
  },
  {
   "cell_type": "code",
   "execution_count": 7,
   "id": "b83d71c1-5968-486f-b13e-5bf16810c5f1",
   "metadata": {
    "id": "b83d71c1-5968-486f-b13e-5bf16810c5f1"
   },
   "outputs": [],
   "source": [
    "#Defining model\n",
    "def define_model():\n",
    "    model = keras.models.Sequential()\n",
    "    model.add(keras.layers.Conv2D(filters = 32, kernel_size=3, activation='relu', kernel_initializer='he_uniform', input_shape=(28, 28, 1)))\n",
    "    model.add(keras.layers.MaxPooling2D(2,2))\n",
    "    model.add(keras.layers.Conv2D(64, kernel_size=3, activation='relu', kernel_initializer='he_uniform'))\n",
    "    model.add(keras.layers.Conv2D(64, kernel_size=3, activation='relu', kernel_initializer='he_uniform'))\n",
    "    model.add(keras.layers.MaxPooling2D(2,2))\n",
    "    model.add(keras.layers.Flatten())\n",
    "    model.add(keras.layers.Dense(units=64,activation='relu',kernel_initializer='he_uniform'))\n",
    "    model.add(keras.layers.Dense(units=128,activation='relu',kernel_initializer='he_uniform'))\n",
    "    model.add(keras.layers.Dense(units=10,activation='softmax'))\n",
    "    model.compile(optimizer='adam', loss='categorical_crossentropy', metrics=['accuracy'])\n",
    "    return model"
   ]
  },
  {
   "cell_type": "markdown",
   "id": "9e3a2406-3b2c-4b9b-8bef-1372b88b585a",
   "metadata": {
    "id": "9e3a2406-3b2c-4b9b-8bef-1372b88b585a"
   },
   "source": [
    "### Part 6: Training and validating the model"
   ]
  },
  {
   "cell_type": "code",
   "execution_count": 8,
   "id": "46f3208a-c572-41f0-90a3-48775abe2bc4",
   "metadata": {
    "colab": {
     "base_uri": "https://localhost:8080/"
    },
    "id": "46f3208a-c572-41f0-90a3-48775abe2bc4",
    "outputId": "7123108a-b2ad-44fc-e115-830827d029d7"
   },
   "outputs": [
    {
     "name": "stdout",
     "output_type": "stream",
     "text": [
      "Epoch 1/10\n",
      "1875/1875 [==============================] - 89s 47ms/step - loss: 0.1208 - accuracy: 0.9630 - val_loss: 0.0563 - val_accuracy: 0.9826\n",
      "Epoch 2/10\n",
      "1875/1875 [==============================] - 89s 48ms/step - loss: 0.0470 - accuracy: 0.9857 - val_loss: 0.0334 - val_accuracy: 0.9895\n",
      "Epoch 3/10\n",
      "1875/1875 [==============================] - 90s 48ms/step - loss: 0.0324 - accuracy: 0.9899 - val_loss: 0.0308 - val_accuracy: 0.9913\n",
      "Epoch 4/10\n",
      "1875/1875 [==============================] - 90s 48ms/step - loss: 0.0245 - accuracy: 0.9922 - val_loss: 0.0341 - val_accuracy: 0.9896\n",
      "Epoch 5/10\n",
      "1875/1875 [==============================] - 87s 47ms/step - loss: 0.0191 - accuracy: 0.9944 - val_loss: 0.0389 - val_accuracy: 0.9901\n",
      "Epoch 6/10\n",
      "1875/1875 [==============================] - 88s 47ms/step - loss: 0.0169 - accuracy: 0.9948 - val_loss: 0.0501 - val_accuracy: 0.9882\n",
      "Epoch 7/10\n",
      "1875/1875 [==============================] - 90s 48ms/step - loss: 0.0146 - accuracy: 0.9956 - val_loss: 0.0267 - val_accuracy: 0.9935\n",
      "Epoch 8/10\n",
      "1875/1875 [==============================] - 89s 48ms/step - loss: 0.0115 - accuracy: 0.9963 - val_loss: 0.0540 - val_accuracy: 0.9882\n",
      "Epoch 9/10\n",
      "1875/1875 [==============================] - 88s 47ms/step - loss: 0.0107 - accuracy: 0.9969 - val_loss: 0.0347 - val_accuracy: 0.9911\n",
      "Epoch 10/10\n",
      "1875/1875 [==============================] - 91s 48ms/step - loss: 0.0105 - accuracy: 0.9968 - val_loss: 0.0401 - val_accuracy: 0.9907\n"
     ]
    },
    {
     "data": {
      "text/plain": [
       "<tensorflow.python.keras.callbacks.History at 0x7f2380af5c10>"
      ]
     },
     "execution_count": 8,
     "metadata": {
      "tags": []
     },
     "output_type": "execute_result"
    }
   ],
   "source": [
    "model = define_model()\n",
    "model.fit(trainX, trainy, epochs=10, batch_size=32, validation_data=(testX, testy))"
   ]
  },
  {
   "cell_type": "markdown",
   "id": "b7c32580-2d64-4d2f-93be-1c2f80ddfe99",
   "metadata": {
    "id": "b7c32580-2d64-4d2f-93be-1c2f80ddfe99"
   },
   "source": [
    "### Part 7: Testing our model with some test images"
   ]
  },
  {
   "cell_type": "code",
   "execution_count": 9,
   "id": "b8f6661f-c718-40bf-875c-24ea66eabead",
   "metadata": {
    "colab": {
     "base_uri": "https://localhost:8080/",
     "height": 299
    },
    "id": "b8f6661f-c718-40bf-875c-24ea66eabead",
    "outputId": "1dd923fb-7d2b-4540-fe9f-a0fd0c6ec704"
   },
   "outputs": [
    {
     "data": {
      "image/png": "[encoded data removed]",
      "text/plain": [
       "<Figure size 432x288 with 1 Axes>"
      ]
     },
     "metadata": {
      "needs_background": "light",
      "tags": []
     },
     "output_type": "display_data"
    },
    {
     "name": "stdout",
     "output_type": "stream",
     "text": [
      "Predicted Value:  5\n",
      "Probability {0: 0.0, 1: 0.0, 2: 0.0, 3: 0.0, 4: 0.0, 5: 0.99, 6: 0.0, 7: 0.0, 8: 0.0, 9: 0.0}\n"
     ]
    }
   ],
   "source": [
    "import numpy as np\n",
    "from keras.preprocessing import image\n",
    "\n",
    "#Loading a sample test image from MNIST dataset\n",
    "test_image = trainX[0]\n",
    "\n",
    "#Displaying the input image\n",
    "pyplot.imshow(np.squeeze(test_image), cmap=pyplot.get_cmap('gray'))\n",
    "pyplot.show()\n",
    "\n",
    "#As the image is already processed, we skip the preprocessing steps\n",
    "\n",
    "test_image = np.expand_dims(test_image, axis=0) #Adding an extra-dimension to image to correspond it to a batch\n",
    "\n",
    "result = model.predict(test_image)[0] #Predicting the value using CNN model and input image\n",
    "\n",
    "#Displaying the result\n",
    "print(\"Predicted Value: \", np.argmax(result))\n",
    "print(\"Probability: \", {int(i): int((result[i])*100)/100 for i in range(10)}) #Returing the result as a dictionary"
   ]
  },
  {
   "cell_type": "markdown",
   "id": "7b5081fa-189e-471c-93cc-c72493ad9245",
   "metadata": {
    "id": "7b5081fa-189e-471c-93cc-c72493ad9245"
   },
   "source": [
    "### Part 8: Saving the CNN Model"
   ]
  },
  {
   "cell_type": "code",
   "execution_count": 10,
   "id": "7d62a062-07c1-43a4-9bc6-9f93709b80e0",
   "metadata": {
    "id": "7d62a062-07c1-43a4-9bc6-9f93709b80e0"
   },
   "outputs": [],
   "source": [
    "model.save('MNIST_MODEL.h5')"
   ]
  },
  {
   "cell_type": "markdown",
   "id": "c81560bf-4cb9-420c-a8ce-17999ccb8897",
   "metadata": {
    "id": "c81560bf-4cb9-420c-a8ce-17999ccb8897"
   },
   "source": [
    "## Section 2: Building GUI"
   ]
  },
  {
   "cell_type": "markdown",
   "id": "596f7123-c0db-443e-907a-8b2fcd56ac4d",
   "metadata": {
    "id": "596f7123-c0db-443e-907a-8b2fcd56ac4d"
   },
   "source": [
    "### Part 1: Importing the CNN Model"
   ]
  },
  {
   "cell_type": "code",
   "execution_count": 11,
   "id": "f5262985-b3cd-4c94-924b-73ebfc34d01d",
   "metadata": {
    "colab": {
     "base_uri": "https://localhost:8080/"
    },
    "id": "f5262985-b3cd-4c94-924b-73ebfc34d01d",
    "outputId": "4c706d04-c5e1-4d87-9e4d-bd450479ea48"
   },
   "outputs": [
    {
     "name": "stdout",
     "output_type": "stream",
     "text": [
      "Successfully Imported Model\n"
     ]
    }
   ],
   "source": [
    "from tensorflow.keras.models import load_model\n",
    "try:\n",
    "  model = load_model('MNIST_MODEL.h5')\n",
    "  print(\"Successfully Imported Model\")\n",
    "except:\n",
    "  print(\"Error occured while importing model\")"
   ]
  },
  {
   "cell_type": "markdown",
   "id": "01a80b9a-3578-4eb1-8941-25083ff6453e",
   "metadata": {
    "id": "01a80b9a-3578-4eb1-8941-25083ff6453e"
   },
   "source": [
    "### Part 2: Installing required libraries"
   ]
  },
  {
   "cell_type": "code",
   "execution_count": 12,
   "id": "9783e938-d5b0-4c06-8ca6-926dfe937bb8",
   "metadata": {
    "colab": {
     "base_uri": "https://localhost:8080/"
    },
    "id": "9783e938-d5b0-4c06-8ca6-926dfe937bb8",
    "outputId": "32a27139-16d2-468b-e9d8-97277914d954"
   },
   "outputs": [
    {
     "name": "stdout",
     "output_type": "stream",
     "text": [
      "Requirement already satisfied: gradio in /usr/local/lib/python3.7/dist-packages (2.0.5)\n",
      "Requirement already satisfied: scipy in /usr/local/lib/python3.7/dist-packages (from gradio) (1.4.1)\n",
      "Requirement already satisfied: ffmpy in /usr/local/lib/python3.7/dist-packages (from gradio) (0.3.0)\n",
      "Requirement already satisfied: matplotlib in /usr/local/lib/python3.7/dist-packages (from gradio) (3.2.2)\n",
      "Requirement already satisfied: Flask>=1.1.1 in /usr/local/lib/python3.7/dist-packages (from gradio) (1.1.4)\n",
      "Requirement already satisfied: requests in /usr/local/lib/python3.7/dist-packages (from gradio) (2.23.0)\n",
      "Requirement already satisfied: pandas in /usr/local/lib/python3.7/dist-packages (from gradio) (1.1.5)\n",
      "Requirement already satisfied: Flask-Login in /usr/local/lib/python3.7/dist-packages (from gradio) (0.5.0)\n",
      "Requirement already satisfied: pycryptodome in /usr/local/lib/python3.7/dist-packages (from gradio) (3.10.1)\n",
      "Requirement already satisfied: pillow in /usr/local/lib/python3.7/dist-packages (from gradio) (7.1.2)\n",
      "Requirement already satisfied: Flask-Cors>=3.0.8 in /usr/local/lib/python3.7/dist-packages (from gradio) (3.0.10)\n",
      "Requirement already satisfied: paramiko in /usr/local/lib/python3.7/dist-packages (from gradio) (2.7.2)\n",
      "Requirement already satisfied: flask-cachebuster in /usr/local/lib/python3.7/dist-packages (from gradio) (1.0.0)\n",
      "Requirement already satisfied: markdown2 in /usr/local/lib/python3.7/dist-packages (from gradio) (2.4.0)\n",
      "Requirement already satisfied: analytics-python in /usr/local/lib/python3.7/dist-packages (from gradio) (1.3.1)\n",
      "Requirement already satisfied: numpy in /usr/local/lib/python3.7/dist-packages (from gradio) (1.19.5)\n",
      "Requirement already satisfied: cycler>=0.10 in /usr/local/lib/python3.7/dist-packages (from matplotlib->gradio) (0.10.0)\n",
      "Requirement already satisfied: python-dateutil>=2.1 in /usr/local/lib/python3.7/dist-packages (from matplotlib->gradio) (2.8.1)\n",
      "Requirement already satisfied: pyparsing!=2.0.4,!=2.1.2,!=2.1.6,>=2.0.1 in /usr/local/lib/python3.7/dist-packages (from matplotlib->gradio) (2.4.7)\n",
      "Requirement already satisfied: kiwisolver>=1.0.1 in /usr/local/lib/python3.7/dist-packages (from matplotlib->gradio) (1.3.1)\n",
      "Requirement already satisfied: click<8.0,>=5.1 in /usr/local/lib/python3.7/dist-packages (from Flask>=1.1.1->gradio) (7.1.2)\n",
      "Requirement already satisfied: Jinja2<3.0,>=2.10.1 in /usr/local/lib/python3.7/dist-packages (from Flask>=1.1.1->gradio) (2.11.3)\n",
      "Requirement already satisfied: Werkzeug<2.0,>=0.15 in /usr/local/lib/python3.7/dist-packages (from Flask>=1.1.1->gradio) (1.0.1)\n",
      "Requirement already satisfied: itsdangerous<2.0,>=0.24 in /usr/local/lib/python3.7/dist-packages (from Flask>=1.1.1->gradio) (1.1.0)\n",
      "Requirement already satisfied: urllib3!=1.25.0,!=1.25.1,<1.26,>=1.21.1 in /usr/local/lib/python3.7/dist-packages (from requests->gradio) (1.24.3)\n",
      "Requirement already satisfied: certifi>=2017.4.17 in /usr/local/lib/python3.7/dist-packages (from requests->gradio) (2021.5.30)\n",
      "Requirement already satisfied: chardet<4,>=3.0.2 in /usr/local/lib/python3.7/dist-packages (from requests->gradio) (3.0.4)\n",
      "Requirement already satisfied: idna<3,>=2.5 in /usr/local/lib/python3.7/dist-packages (from requests->gradio) (2.10)\n",
      "Requirement already satisfied: pytz>=2017.2 in /usr/local/lib/python3.7/dist-packages (from pandas->gradio) (2018.9)\n",
      "Requirement already satisfied: Six in /usr/local/lib/python3.7/dist-packages (from Flask-Cors>=3.0.8->gradio) (1.15.0)\n",
      "Requirement already satisfied: cryptography>=2.5 in /usr/local/lib/python3.7/dist-packages (from paramiko->gradio) (3.4.7)\n",
      "Requirement already satisfied: pynacl>=1.0.1 in /usr/local/lib/python3.7/dist-packages (from paramiko->gradio) (1.4.0)\n",
      "Requirement already satisfied: bcrypt>=3.1.3 in /usr/local/lib/python3.7/dist-packages (from paramiko->gradio) (3.2.0)\n",
      "Requirement already satisfied: monotonic>=1.5 in /usr/local/lib/python3.7/dist-packages (from analytics-python->gradio) (1.6)\n",
      "Requirement already satisfied: backoff==1.10.0 in /usr/local/lib/python3.7/dist-packages (from analytics-python->gradio) (1.10.0)\n",
      "Requirement already satisfied: MarkupSafe>=0.23 in /usr/local/lib/python3.7/dist-packages (from Jinja2<3.0,>=2.10.1->Flask>=1.1.1->gradio) (2.0.1)\n",
      "Requirement already satisfied: cffi>=1.12 in /usr/local/lib/python3.7/dist-packages (from cryptography>=2.5->paramiko->gradio) (1.14.5)\n",
      "Requirement already satisfied: pycparser in /usr/local/lib/python3.7/dist-packages (from cffi>=1.12->cryptography>=2.5->paramiko->gradio) (2.20)\n"
     ]
    }
   ],
   "source": [
    "!pip install gradio"
   ]
  },
  {
   "cell_type": "markdown",
   "id": "6da92ec1-4e2a-47bd-8b34-125d5ae9ed64",
   "metadata": {
    "id": "6da92ec1-4e2a-47bd-8b34-125d5ae9ed64"
   },
   "source": [
    "### Part 3: Importing required libraries\n"
   ]
  },
  {
   "cell_type": "code",
   "execution_count": 13,
   "id": "9ab0f065-2b28-43a8-a123-75876bdbb120",
   "metadata": {
    "id": "9ab0f065-2b28-43a8-a123-75876bdbb120"
   },
   "outputs": [],
   "source": [
    "from tensorflow.keras.preprocessing import image\n",
    "import gradio as gr\n",
    "import numpy as np"
   ]
  },
  {
   "cell_type": "markdown",
   "id": "3f243dae-5281-43ff-b8e1-6ee71036248c",
   "metadata": {
    "id": "3f243dae-5281-43ff-b8e1-6ee71036248c"
   },
   "source": [
    "### Part 4: Defining function to recoginise the digit from input image"
   ]
  },
  {
   "cell_type": "code",
   "execution_count": 14,
   "id": "1b334c0d-a76b-4669-90ff-50647193448f",
   "metadata": {
    "id": "1b334c0d-a76b-4669-90ff-50647193448f"
   },
   "outputs": [],
   "source": [
    "def recognize_digit(img):\n",
    "  img = image.img_to_array(img) #Converting PIL instance of image to numpy array\n",
    "  img = img/255.0 #To normalise the image\n",
    "  img = np.expand_dims(img, axis=0) #Adding another dimension for model predict\n",
    "  result = model.predict(img)[0] #Predicting the value using CNN model and input image\n",
    "  \n",
    "  return {int(i): int((result[i])*100)/100 for i in range(10)} #Returing the result as a dictionary"
   ]
  },
  {
   "cell_type": "code",
   "execution_count": 15,
   "id": "9ce3adfe-d94a-47ed-90c3-126f96c27c5f",
   "metadata": {
    "id": "9ce3adfe-d94a-47ed-90c3-126f96c27c5f"
   },
   "outputs": [],
   "source": [
    "gr.Interface(fn=recognize_digit, inputs=\"sketchpad\",live=True,outputs=\"label\").launch(debug='False')\n",
    "\n",
    "#Launching the interface"
   ]
  }
 ],
 "metadata": {
  "colab": {
   "collapsed_sections": [],
   "name": "MNIST_CNN_GUI(Colab).ipynb",
   "provenance": [],
   "toc_visible": true
  },
  "kernelspec": {
   "display_name": "Python 3",
   "language": "python",
   "name": "python3"
  },
  "language_info": {
   "codemirror_mode": {
    "name": "ipython",
    "version": 3
   },
   "file_extension": ".py",
   "mimetype": "text/x-python",
   "name": "python",
   "nbconvert_exporter": "python",
   "pygments_lexer": "ipython3",
   "version": "3.8.10"
  }
 },
 "nbformat": 4,
 "nbformat_minor": 5
}
