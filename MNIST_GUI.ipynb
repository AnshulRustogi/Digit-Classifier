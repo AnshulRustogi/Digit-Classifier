{
 "cells": [
  {
   "cell_type": "markdown",
   "metadata": {},
   "source": [
    "# GUI for CNN Model for Hand Written Digit Recognition\n",
    "## Using Gradio, Tensorflow, Keras"
   ]
  },
  {
   "cell_type": "markdown",
   "metadata": {},
   "source": [
    "### Part 1: Importing the CNN Model"
   ]
  },
  {
   "cell_type": "code",
   "execution_count": null,
   "metadata": {
    "colab": {
     "base_uri": "https://localhost:8080/"
    },
    "id": "hL8NyHzXwKsU",
    "outputId": "af11c674-af2d-4056-9230-1172ba233457"
   },
   "outputs": [],
   "source": [
    "from tensorflow.keras.models import load_model\n",
    "try:\n",
    "  model = load_model('MNIST_MODEL.h5')\n",
    "  print(\"Successfully Imported Model\")\n",
    "except:\n",
    "  print(\"Error occured while importing model\")"
   ]
  },
  {
   "cell_type": "markdown",
   "metadata": {},
   "source": [
    "### Part 2: Installing required libraries"
   ]
  },
  {
   "cell_type": "code",
   "execution_count": null,
   "metadata": {
    "colab": {
     "base_uri": "https://localhost:8080/"
    },
    "id": "T2cUvDJxwg-r",
    "outputId": "3a03b0fd-4fb3-4674-a289-d7fb819fee03"
   },
   "outputs": [],
   "source": [
    "!pip install gradio"
   ]
  },
  {
   "cell_type": "markdown",
   "metadata": {},
   "source": [
    "### Part 3: Importing required libraries\n"
   ]
  },
  {
   "cell_type": "code",
   "execution_count": null,
   "metadata": {
    "id": "0cX51gXF08JT"
   },
   "outputs": [],
   "source": [
    "from tensorflow.keras.preprocessing import image\n",
    "import gradio as gr\n",
    "import numpy as np"
   ]
  },
  {
   "cell_type": "markdown",
   "metadata": {},
   "source": [
    "### Part 4: Defining function to recoginise the digit from input image"
   ]
  },
  {
   "cell_type": "code",
   "execution_count": null,
   "metadata": {
    "colab": {
     "base_uri": "https://localhost:8080/",
     "height": 888
    },
    "id": "foqh2BV3w1RT",
    "outputId": "9915292f-c308-4c0c-ac18-1b0c39d4faf9"
   },
   "outputs": [],
   "source": [
    "def recognize_digit(img):\n",
    "  img = image.img_to_array(img) #Converting PIL instance of image to numpy array\n",
    "  img = img/255.0 #To normalise the image\n",
    "  img = np.expand_dims(img, axis=0) #Adding another dimension for model predict\n",
    "  result = model.predict(img)[0] #Predicting the value using CNN model and input image\n",
    "  \n",
    "  return {int(i): int((result[i])*100)/100 for i in range(10)} #Returing the result as a dictionary"
   ]
  },
  {
   "cell_type": "code",
   "execution_count": null,
   "metadata": {
    "id": "ZaPzV73d9dXd"
   },
   "outputs": [],
   "source": [
    "gr.Interface(fn=recognize_digit, inputs=\"sketchpad\",live=True,outputs=\"label\").launch(debug='False')\n",
    "\n",
    "#Launching the interface"
   ]
  }
 ],
 "metadata": {
  "colab": {
   "name": "MNIST_GUI.ipynb",
   "provenance": []
  },
  "kernelspec": {
   "display_name": "Python 3",
   "language": "python",
   "name": "python3"
  },
  "language_info": {
   "codemirror_mode": {
    "name": "ipython",
    "version": 3
   },
   "file_extension": ".py",
   "mimetype": "text/x-python",
   "name": "python",
   "nbconvert_exporter": "python",
   "pygments_lexer": "ipython3",
   "version": "3.8.10"
  }
 },
 "nbformat": 4,
 "nbformat_minor": 4
}
